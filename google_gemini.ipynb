{
 "cells": [
  {
   "cell_type": "code",
   "execution_count": 4,
   "metadata": {},
   "outputs": [
    {
     "name": "stderr",
     "output_type": "stream",
     "text": [
      "c:\\Users\\Vibhor\\AppData\\Local\\Programs\\Python\\Python311\\Lib\\site-packages\\langchain_core\\_api\\deprecation.py:117: LangChainDeprecationWarning: The function `__call__` was deprecated in LangChain 0.1.0 and will be removed in 0.2.0. Use invoke instead.\n",
      "  warn_deprecated(\n"
     ]
    },
    {
     "name": "stdout",
     "output_type": "stream",
     "text": [
      "1. The document provides updates on the 2022 revision of the World Population Prospects.\n",
      "2. The designations used in the publication do not reflect any opinions on the legal status or boundaries of any country or area.\n",
      "3. Data is aggregated into six continental regions: Africa, Asia, Europe, Latin America and the Caribbean, Northern America, and Oceania.\n",
      "4. Countries are also grouped into geographic regions based on the classification used to track progress towards the UN's Sustainable Development Goals.\n",
      "5. The terms \"more developed\" and \"less developed\" are used for statistical purposes and do not indicate a judgment on a country's development stage.\n",
      "6. More developed regions include Europe, Northern America, Australia, New Zealand, and Japan.\n",
      "7. Less developed regions include all other countries and areas.\n",
      "8. The 2022 revision includes population estimates from 1950 to the present for 237 countries or areas.\n",
      "9. The revision also presents population projections to the year 2100.\n",
      "10. The projections reflect a range of plausible outcomes at the global, regional, and national levels.\n",
      "11. The document includes a table showing life expectancy at birth for males, females, and both sexes in different regions in 1990, 2021, and 2050.\n",
      "12. Life expectancy is projected to increase in all regions by 2050.\n",
      "13. The largest increases are projected for Sub-Saharan Africa and Northern Africa and Western Asia.\n",
      "14. The smallest increases are projected for Australia/New Zealand and Europe and Northern America.\n",
      "15. The document also includes data on life expectancy for least developed countries, landlocked developing countries, and small island developing states.\n"
     ]
    }
   ],
   "source": [
    "from gemini import DocumentSummarization\n",
    "re = DocumentSummarization(dir_name='E:/Gemini/user/population.pdf')\n",
    "result = re.main(chunksize=1000,overlap=300,model=\"models/embedding-001\",type='stuff',user_question='give summary of the following document')\n",
    "for data in result['output_text'].split('\\n'):\n",
    "    print(data)"
   ]
  },
  {
   "cell_type": "code",
   "execution_count": 3,
   "metadata": {},
   "outputs": [
    {
     "name": "stdout",
     "output_type": "stream",
     "text": [
      "Newton's second law of motion, also known as the law of acceleration,\n",
      " describes the relationship between an object's mass, velocity, and the forces acting upon it. The law states that the acceleration of an object is directly proportional to\n",
      " the net force acting on the object, and inversely proportional to its mass. Mathematically, it can be expressed as:\n",
      "\n",
      "```\n",
      "F = ma\n",
      "```\n",
      "\n",
      "where:\n",
      "\n",
      " F is the net force acting on the object (in newtons)\n",
      " m is the mass of the object (in kilograms)\n",
      "\n",
      " a is the acceleration of the object (in meters per second squared)\n",
      "\n",
      "For example, if you push a 10-kilogram box with a force of 100 newtons, the box will accelerate at a rate of 10 meters per second squared.\n",
      "\n",
      "Another example of Newton's second law of motion is when a car is accelerating. The force acting on the car is the force of the engine, and the mass of the car is the total mass of the car and its passengers. The acceleration of the car is directly proportional to the force of the engine and inversely proportional to the mass of the\n",
      " car.\n"
     ]
    }
   ],
   "source": [
    "from gemini import ChatModel\n",
    "chat = ChatModel()\n",
    "re = chat.start_chat(user_input=\"what is newton's second law of motion?, can you give an example?\")\n",
    "for data in re:\n",
    "    print(data)"
   ]
  },
  {
   "cell_type": "code",
   "execution_count": 10,
   "metadata": {},
   "outputs": [
    {
     "name": "stderr",
     "output_type": "stream",
     "text": [
      "Retrying langchain_google_genai.chat_models._chat_with_retry.<locals>._chat_with_retry in 2.0 seconds as it raised InternalServerError: 500 An internal error has occurred. Please retry or report in https://developers.generativeai.google/guide/troubleshooting.\n"
     ]
    },
    {
     "name": "stdout",
     "output_type": "stream",
     "text": [
      "- India is projected to surpass China as the world’s most populous country in 2023.\n",
      "- India is one of the eight countries that will account for more than half of the projected increase in global population up to 2050.\n",
      "- India has a population of over 1.4 billion people.\n"
     ]
    }
   ],
   "source": [
    "from gemini import DocumentQuestionAnswering\n",
    "re = DocumentQuestionAnswering(dir_name='E:/Gemini/user/population.pdf')\n",
    "result = re.main(chunksize=1000,overlap=300,model=\"models/embedding-001\",type='stuff',user_question='what information about india is given in this document?')\n",
    "print(result['output_text'])"
   ]
  },
  {
   "cell_type": "code",
   "execution_count": null,
   "metadata": {},
   "outputs": [],
   "source": []
  }
 ],
 "metadata": {
  "kernelspec": {
   "display_name": "Python 3",
   "language": "python",
   "name": "python3"
  },
  "language_info": {
   "codemirror_mode": {
    "name": "ipython",
    "version": 3
   },
   "file_extension": ".py",
   "mimetype": "text/x-python",
   "name": "python",
   "nbconvert_exporter": "python",
   "pygments_lexer": "ipython3",
   "version": "3.11.5"
  }
 },
 "nbformat": 4,
 "nbformat_minor": 2
}
